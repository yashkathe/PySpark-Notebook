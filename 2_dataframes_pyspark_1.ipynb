{
  "nbformat": 4,
  "nbformat_minor": 0,
  "metadata": {
    "colab": {
      "provenance": [],
      "authorship_tag": "ABX9TyOqpMnz/B2D2ghxOey6mOqI"
    },
    "kernelspec": {
      "name": "python3",
      "display_name": "Python 3"
    },
    "language_info": {
      "name": "python"
    }
  },
  "cells": [
    {
      "cell_type": "code",
      "execution_count": 1,
      "metadata": {
        "colab": {
          "base_uri": "https://localhost:8080/"
        },
        "id": "aqBHs9Usrgi7",
        "outputId": "03f69423-06ba-4064-98b8-b8fc322283ab"
      },
      "outputs": [
        {
          "output_type": "stream",
          "name": "stdout",
          "text": [
            "Collecting pyspark\n",
            "  Downloading pyspark-3.5.1.tar.gz (317.0 MB)\n",
            "\u001b[2K     \u001b[90m━━━━━━━━━━━━━━━━━━━━━━━━━━━━━━━━━━━━━━━━\u001b[0m \u001b[32m317.0/317.0 MB\u001b[0m \u001b[31m3.4 MB/s\u001b[0m eta \u001b[36m0:00:00\u001b[0m\n",
            "\u001b[?25h  Preparing metadata (setup.py) ... \u001b[?25l\u001b[?25hdone\n",
            "Requirement already satisfied: py4j==0.10.9.7 in /usr/local/lib/python3.10/dist-packages (from pyspark) (0.10.9.7)\n",
            "Building wheels for collected packages: pyspark\n",
            "  Building wheel for pyspark (setup.py) ... \u001b[?25l\u001b[?25hdone\n",
            "  Created wheel for pyspark: filename=pyspark-3.5.1-py2.py3-none-any.whl size=317488491 sha256=991e0db054c392e158fa9125032245d2bab0adb4d0b90f83d540294995cf4f46\n",
            "  Stored in directory: /root/.cache/pip/wheels/80/1d/60/2c256ed38dddce2fdd93be545214a63e02fbd8d74fb0b7f3a6\n",
            "Successfully built pyspark\n",
            "Installing collected packages: pyspark\n",
            "Successfully installed pyspark-3.5.1\n"
          ]
        }
      ],
      "source": [
        "!pip install pyspark"
      ]
    },
    {
      "cell_type": "code",
      "source": [
        "import requests"
      ],
      "metadata": {
        "id": "h-yQvRsbrpeD"
      },
      "execution_count": 2,
      "outputs": []
    },
    {
      "cell_type": "code",
      "source": [
        "#Dowload CSV File\n",
        "\n",
        "def download_file(url, filename):\n",
        "\n",
        "    try:\n",
        "        response = requests.get(url)\n",
        "        response.raise_for_status()\n",
        "        with open(filename, 'wb') as f:\n",
        "            f.write(response.content)\n",
        "        print(f\"File downloaded successfully and saved as {filename}\")\n",
        "    except requests.exceptions.HTTPError as errh:\n",
        "        print(f\"HTTP Error: {errh}\")\n",
        "    except requests.exceptions.ConnectionError as errc:\n",
        "        print(f\"Error Connecting: {errc}\")\n",
        "    except requests.exceptions.Timeout as errt:\n",
        "        print(f\"Timeout Error: {errt}\")\n",
        "    except requests.exceptions.RequestException as err:\n",
        "        print(f\"OOps: Something Else: {err}\")"
      ],
      "metadata": {
        "id": "NO4UpUV4rmTE"
      },
      "execution_count": 5,
      "outputs": []
    },
    {
      "cell_type": "code",
      "source": [
        "url = 'https://drive.google.com/uc?id=1zO8ekHWx9U7mrbx_0Hoxxu6od7uxJqWw&export=download'\n",
        "filename = 'data.csv'\n",
        "\n",
        "download_file(url, filename)"
      ],
      "metadata": {
        "colab": {
          "base_uri": "https://localhost:8080/"
        },
        "id": "FTPuynAtr1Xj",
        "outputId": "bbe465e7-9119-48a8-819d-b6191b0b61b2"
      },
      "execution_count": 6,
      "outputs": [
        {
          "output_type": "stream",
          "name": "stdout",
          "text": [
            "File downloaded successfully and saved as data.csv\n"
          ]
        }
      ]
    },
    {
      "cell_type": "code",
      "source": [
        "from pyspark.sql import SparkSession"
      ],
      "metadata": {
        "id": "RxIsLejssHJk"
      },
      "execution_count": 7,
      "outputs": []
    },
    {
      "cell_type": "code",
      "source": [
        "spark = SparkSession.builder.appName('DataFrame').getOrCreate()\n",
        "spark"
      ],
      "metadata": {
        "colab": {
          "base_uri": "https://localhost:8080/",
          "height": 219
        },
        "id": "pUhbUqRhsVVZ",
        "outputId": "5200f356-c73f-4c8f-bb07-cbbee7e154e9"
      },
      "execution_count": 9,
      "outputs": [
        {
          "output_type": "execute_result",
          "data": {
            "text/plain": [
              "<pyspark.sql.session.SparkSession at 0x7c8c12a52e30>"
            ],
            "text/html": [
              "\n",
              "            <div>\n",
              "                <p><b>SparkSession - in-memory</b></p>\n",
              "                \n",
              "        <div>\n",
              "            <p><b>SparkContext</b></p>\n",
              "\n",
              "            <p><a href=\"http://e2e6800ca994:4040\">Spark UI</a></p>\n",
              "\n",
              "            <dl>\n",
              "              <dt>Version</dt>\n",
              "                <dd><code>v3.5.1</code></dd>\n",
              "              <dt>Master</dt>\n",
              "                <dd><code>local[*]</code></dd>\n",
              "              <dt>AppName</dt>\n",
              "                <dd><code>DataFrame</code></dd>\n",
              "            </dl>\n",
              "        </div>\n",
              "        \n",
              "            </div>\n",
              "        "
            ]
          },
          "metadata": {},
          "execution_count": 9
        }
      ]
    },
    {
      "cell_type": "markdown",
      "source": [
        "## Reading a dataset"
      ],
      "metadata": {
        "id": "QgDuEOJpsmQ-"
      }
    },
    {
      "cell_type": "code",
      "source": [
        "# consider first row as header\n",
        "df_pyspark = spark.read.option('header', 'true').csv('data.csv')"
      ],
      "metadata": {
        "id": "LLbakZXDslSw"
      },
      "execution_count": 12,
      "outputs": []
    },
    {
      "cell_type": "markdown",
      "source": [
        "## Checking the Schema\n"
      ],
      "metadata": {
        "id": "6jyoDPeSs7EX"
      }
    },
    {
      "cell_type": "code",
      "source": [
        "df_pyspark.printSchema()"
      ],
      "metadata": {
        "colab": {
          "base_uri": "https://localhost:8080/"
        },
        "id": "G_fOXaFws5tf",
        "outputId": "56b7334d-ca1f-4b7c-c389-86904679c185"
      },
      "execution_count": 13,
      "outputs": [
        {
          "output_type": "stream",
          "name": "stdout",
          "text": [
            "root\n",
            " |-- Index: string (nullable = true)\n",
            " |-- Customer Id: string (nullable = true)\n",
            " |-- First Name: string (nullable = true)\n",
            " |-- Last Name: string (nullable = true)\n",
            " |-- Company: string (nullable = true)\n",
            " |-- City: string (nullable = true)\n",
            " |-- Country: string (nullable = true)\n",
            " |-- Phone 1: string (nullable = true)\n",
            " |-- Phone 2: string (nullable = true)\n",
            " |-- Email: string (nullable = true)\n",
            " |-- Subscription Date: string (nullable = true)\n",
            " |-- Website: string (nullable = true)\n",
            "\n"
          ]
        }
      ]
    },
    {
      "cell_type": "markdown",
      "source": [
        "## Reading Data and Setting Headers together"
      ],
      "metadata": {
        "id": "xKpjfiu2tOAu"
      }
    },
    {
      "cell_type": "code",
      "source": [
        "df_pyspark = spark.read.csv('data.csv', header=True, inferSchema=True)\n",
        "df_pyspark.show()"
      ],
      "metadata": {
        "colab": {
          "base_uri": "https://localhost:8080/"
        },
        "id": "735XOfKxtQyM",
        "outputId": "f9c87083-e592-442a-9ac8-026c93f2d7dc"
      },
      "execution_count": 14,
      "outputs": [
        {
          "output_type": "stream",
          "name": "stdout",
          "text": [
            "+-----+---------------+----------+---------+--------------------+-----------------+--------------------+--------------------+--------------------+--------------------+-----------------+--------------------+\n",
            "|Index|    Customer Id|First Name|Last Name|             Company|             City|             Country|             Phone 1|             Phone 2|               Email|Subscription Date|             Website|\n",
            "+-----+---------------+----------+---------+--------------------+-----------------+--------------------+--------------------+--------------------+--------------------+-----------------+--------------------+\n",
            "|    1|DD37Cf93aecA6Dc|    Sheryl|   Baxter|     Rasmussen Group|     East Leonard|               Chile|        229.077.5154|    397.884.0519x718|zunigavanessa@smi...|       2020-08-24|http://www.stephe...|\n",
            "|    2|1Ef7b82A4CAAD10|   Preston|   Lozano|         Vega-Gentry|East Jimmychester|            Djibouti|          5153435776|    686-620-1820x944|     vmata@colon.com|       2021-04-23|http://www.hobbs....|\n",
            "|    3|6F94879bDAfE5a6|       Roy|    Berry|       Murillo-Perry|    Isabelborough| Antigua and Barbuda|     +1-539-402-0259| (496)978-3969x58947| beckycarr@hogan.com|       2020-03-25|http://www.lawren...|\n",
            "|    4|5Cef8BFA16c5e3c|     Linda|    Olsen|Dominguez, Mcmill...|       Bensonview|  Dominican Republic|001-808-617-6467x...|     +1-813-324-8756|stanleyblackwell@...|       2020-06-02|http://www.good-l...|\n",
            "|    5|053d585Ab6b3159|    Joanna|   Bender|Martin, Lang and ...|   West Priscilla|Slovakia (Slovak ...|001-234-203-0635x...|001-199-446-3860x...|colinalvarado@mil...|       2021-04-17|https://goodwin-i...|\n",
            "|    6|2d08FB17EE273F4|     Aimee|    Downs|        Steele Group|    Chavezborough|Bosnia and Herzeg...| (283)437-3886x88321|        999-728-1637| louis27@gilbert.com|       2020-02-25|http://www.berger...|\n",
            "|    7|EA4d384DfDbBf77|    Darren|     Peck|Lester, Woodard a...|         Lake Ana|    Pitcairn Islands|  (496)452-6181x3291|+1-247-266-0963x4995| tgates@cantrell.com|       2021-08-24| https://www.le.com/|\n",
            "|    8|0e04AFde9f225dE|     Brett|   Mullen|Sanford, Davenpor...|          Kimport|            Bulgaria|001-583-352-7197x297|    001-333-145-0369|     asnow@colon.com|       2021-04-12|https://hammond-r...|\n",
            "|    9|C2dE4dEEc489ae0|    Sheryl|   Meyers|      Browning-Simon|     Robersonstad|              Cyprus|   854-138-4911x5772| +1-448-910-2276x729|mariokhan@ryan-po...|       2020-01-13|https://www.bullo...|\n",
            "|   10|8C2811a503C7c5a|  Michelle|Gallagher|        Beck-Hendrix|       Elaineberg|         Timor-Leste|    739.218.2516x459|001-054-401-0347x617|   mdyer@escobar.net|       2021-11-08|  https://arias.com/|\n",
            "|   11|216E205d6eBb815|      Carl|Schroeder|Oconnell, Meza an...|     Shannonville|            Guernsey|    637-854-0256x825|    114.336.0784x788|  kirksalas@webb.com|       2021-10-20|https://simmons-h...|\n",
            "|   12|CEDec94deE6d69B|     Jenna|   Dodson|Hoffman, Reed and...|      East Andrea|             Vietnam|       (041)737-3846|+1-556-888-3485x4...|  mark42@robbins.com|       2020-11-29|http://www.dougla...|\n",
            "|   13|e35426EbDEceaFF|    Tracey|     Mata|      Graham-Francis|South Joannamouth|                Togo|    001-949-844-8787|       (855)713-8773|    alex56@walls.org|       2021-12-02|http://www.beck.com/|\n",
            "|   14|A08A8aF8BE9FaD4|  Kristine|      Cox|      Carpenter-Cook|         Jodyberg|           Sri Lanka|  786-284-3358x62152|+1-315-627-1796x8074|holdenmiranda@cla...|       2021-02-08|https://www.brand...|\n",
            "|   15|6fEaA1b7cab7B6C|     Faith|     Lutz|      Carter-Hancock|        Burchbury|           Singapore|  (781)861-7180x8306|        207-185-3665|cassieparrish@ble...|       2022-01-26|http://stevenson....|\n",
            "|   16|8cad0b4CBceaeec|   Miranda|  Beasley|  Singleton and Sons|     Desireeshire|                Oman|    540.085.3135x185|+1-600-462-6432x2...|vduncan@parks-har...|       2022-04-12|  http://acosta.org/|\n",
            "|   17|a5DC21AE3a21eaA|  Caroline|    Foley|     Winters-Mendoza|West Adriennestad|      Western Sahara|   936.222.4746x9924|001-469-948-6341x359|holtgwendolyn@wat...|       2021-03-10|http://www.benson...|\n",
            "|   18|F8Aa9d6DfcBeeF8|      Greg|     Mata|       Valentine LLC|      Lake Leslie|          Mozambique|       (701)087-2415| (195)156-1861x26241|jaredjuarez@carro...|       2022-03-26|http://pitts-cher...|\n",
            "|   19|F160f5Db3EfE973|  Clifford| Jacobson|           Simon LLC|       Harmonview|South Georgia and...|001-151-330-3524x...|       (748)477-7174|joseph26@jacobson...|       2020-09-24|https://mcconnell...|\n",
            "|   20|0F60FF3DdCd7aB0|    Joanna|     Kirk|      Mays-Mccormick|       Jamesshire|    French Polynesia|   (266)131-7001x711| (283)312-5579x11543|tuckerangie@salaz...|       2021-09-24|https://www.camac...|\n",
            "+-----+---------------+----------+---------+--------------------+-----------------+--------------------+--------------------+--------------------+--------------------+-----------------+--------------------+\n",
            "only showing top 20 rows\n",
            "\n"
          ]
        }
      ]
    },
    {
      "cell_type": "markdown",
      "source": [
        "## Get Columns"
      ],
      "metadata": {
        "id": "k3hxmCi7tmTj"
      }
    },
    {
      "cell_type": "code",
      "source": [
        "df_pyspark.head(3)"
      ],
      "metadata": {
        "colab": {
          "base_uri": "https://localhost:8080/"
        },
        "id": "nph2PkORtlTM",
        "outputId": "a78fb458-3508-49d0-887b-fb8f36dab5a1"
      },
      "execution_count": 15,
      "outputs": [
        {
          "output_type": "execute_result",
          "data": {
            "text/plain": [
              "[Row(Index=1, Customer Id='DD37Cf93aecA6Dc', First Name='Sheryl', Last Name='Baxter', Company='Rasmussen Group', City='East Leonard', Country='Chile', Phone 1='229.077.5154', Phone 2='397.884.0519x718', Email='zunigavanessa@smith.info', Subscription Date=datetime.date(2020, 8, 24), Website='http://www.stephenson.com/'),\n",
              " Row(Index=2, Customer Id='1Ef7b82A4CAAD10', First Name='Preston', Last Name='Lozano', Company='Vega-Gentry', City='East Jimmychester', Country='Djibouti', Phone 1='5153435776', Phone 2='686-620-1820x944', Email='vmata@colon.com', Subscription Date=datetime.date(2021, 4, 23), Website='http://www.hobbs.com/'),\n",
              " Row(Index=3, Customer Id='6F94879bDAfE5a6', First Name='Roy', Last Name='Berry', Company='Murillo-Perry', City='Isabelborough', Country='Antigua and Barbuda', Phone 1='+1-539-402-0259', Phone 2='(496)978-3969x58947', Email='beckycarr@hogan.com', Subscription Date=datetime.date(2020, 3, 25), Website='http://www.lawrence.com/')]"
            ]
          },
          "metadata": {},
          "execution_count": 15
        }
      ]
    },
    {
      "cell_type": "code",
      "source": [
        "## Select only 1 column\n",
        "\n",
        "df_pyspark.select('First Name')"
      ],
      "metadata": {
        "colab": {
          "base_uri": "https://localhost:8080/"
        },
        "id": "2Zf-RqRFt32U",
        "outputId": "5e40c242-f4df-4411-e559-075e64f803b6"
      },
      "execution_count": 17,
      "outputs": [
        {
          "output_type": "execute_result",
          "data": {
            "text/plain": [
              "DataFrame[First Name: string]"
            ]
          },
          "metadata": {},
          "execution_count": 17
        }
      ]
    },
    {
      "cell_type": "code",
      "source": [
        "df_pyspark.select('First Name').show(2)"
      ],
      "metadata": {
        "colab": {
          "base_uri": "https://localhost:8080/"
        },
        "id": "s1ZqkhYZuCR3",
        "outputId": "afd3795c-efb9-488a-b0f2-a1a52de6106b"
      },
      "execution_count": 19,
      "outputs": [
        {
          "output_type": "stream",
          "name": "stdout",
          "text": [
            "+----------+\n",
            "|First Name|\n",
            "+----------+\n",
            "|    Sheryl|\n",
            "|   Preston|\n",
            "+----------+\n",
            "only showing top 2 rows\n",
            "\n"
          ]
        }
      ]
    },
    {
      "cell_type": "code",
      "source": [
        "## Selecting Multiple Columns\n",
        "\n",
        "df_pyspark.select(['First Name', 'Last Name'])"
      ],
      "metadata": {
        "colab": {
          "base_uri": "https://localhost:8080/"
        },
        "id": "qWPckbn0uKAF",
        "outputId": "dc8339da-cca0-44d6-9a2c-d5c26dfa9322"
      },
      "execution_count": 20,
      "outputs": [
        {
          "output_type": "execute_result",
          "data": {
            "text/plain": [
              "DataFrame[First Name: string, Last Name: string]"
            ]
          },
          "metadata": {},
          "execution_count": 20
        }
      ]
    },
    {
      "cell_type": "code",
      "source": [
        "df_pyspark.select(['First Name', 'Last Name']).show(2)"
      ],
      "metadata": {
        "colab": {
          "base_uri": "https://localhost:8080/"
        },
        "id": "hsALoYX3uTcV",
        "outputId": "29ca2f59-f541-49cf-ee80-3f2743488e4d"
      },
      "execution_count": 21,
      "outputs": [
        {
          "output_type": "stream",
          "name": "stdout",
          "text": [
            "+----------+---------+\n",
            "|First Name|Last Name|\n",
            "+----------+---------+\n",
            "|    Sheryl|   Baxter|\n",
            "|   Preston|   Lozano|\n",
            "+----------+---------+\n",
            "only showing top 2 rows\n",
            "\n"
          ]
        }
      ]
    },
    {
      "cell_type": "markdown",
      "source": [
        "## Reading DataType"
      ],
      "metadata": {
        "id": "ulyEPrdnukTm"
      }
    },
    {
      "cell_type": "code",
      "source": [
        "df_pyspark.dtypes"
      ],
      "metadata": {
        "colab": {
          "base_uri": "https://localhost:8080/"
        },
        "id": "Cu8279M_umLW",
        "outputId": "f35f235f-17e9-4a30-9e14-b5439e23e27c"
      },
      "execution_count": 22,
      "outputs": [
        {
          "output_type": "execute_result",
          "data": {
            "text/plain": [
              "[('Index', 'int'),\n",
              " ('Customer Id', 'string'),\n",
              " ('First Name', 'string'),\n",
              " ('Last Name', 'string'),\n",
              " ('Company', 'string'),\n",
              " ('City', 'string'),\n",
              " ('Country', 'string'),\n",
              " ('Phone 1', 'string'),\n",
              " ('Phone 2', 'string'),\n",
              " ('Email', 'string'),\n",
              " ('Subscription Date', 'date'),\n",
              " ('Website', 'string')]"
            ]
          },
          "metadata": {},
          "execution_count": 22
        }
      ]
    },
    {
      "cell_type": "code",
      "source": [
        "df_pyspark.describe()"
      ],
      "metadata": {
        "colab": {
          "base_uri": "https://localhost:8080/"
        },
        "id": "XXSx0BhTusJV",
        "outputId": "0ee7fdc0-20b5-4cff-d680-64bc7e19b7be"
      },
      "execution_count": 24,
      "outputs": [
        {
          "output_type": "execute_result",
          "data": {
            "text/plain": [
              "DataFrame[summary: string, Index: string, Customer Id: string, First Name: string, Last Name: string, Company: string, City: string, Country: string, Phone 1: string, Phone 2: string, Email: string, Website: string]"
            ]
          },
          "metadata": {},
          "execution_count": 24
        }
      ]
    },
    {
      "cell_type": "markdown",
      "source": [
        "## Adding Columns"
      ],
      "metadata": {
        "id": "ivGd62Nfu1WY"
      }
    },
    {
      "cell_type": "code",
      "source": [
        "df_pyspark.withColumn('increased_index', df_pyspark['Index'] + 2).select(['Index','increased_index']).show(2)"
      ],
      "metadata": {
        "colab": {
          "base_uri": "https://localhost:8080/"
        },
        "id": "aKKbc6nzu28P",
        "outputId": "028a3efd-2aae-48c6-d00e-ca1288da5d98"
      },
      "execution_count": 33,
      "outputs": [
        {
          "output_type": "stream",
          "name": "stdout",
          "text": [
            "+-----+---------------+\n",
            "|Index|increased_index|\n",
            "+-----+---------------+\n",
            "|    1|              3|\n",
            "|    2|              4|\n",
            "+-----+---------------+\n",
            "only showing top 2 rows\n",
            "\n"
          ]
        }
      ]
    },
    {
      "cell_type": "markdown",
      "source": [
        "\n",
        "## Dropping Columns"
      ],
      "metadata": {
        "id": "5UTn6FH_wB5Q"
      }
    },
    {
      "cell_type": "code",
      "source": [
        "df_pyspark = df_pyspark.drop('Phone 2')\n",
        "\n",
        "df_pyspark.describe()"
      ],
      "metadata": {
        "colab": {
          "base_uri": "https://localhost:8080/"
        },
        "id": "MDjCERzev_HZ",
        "outputId": "5205c38b-ef3c-4e35-a6fa-6e13c88fe63d"
      },
      "execution_count": 35,
      "outputs": [
        {
          "output_type": "execute_result",
          "data": {
            "text/plain": [
              "DataFrame[summary: string, Index: string, Customer Id: string, First Name: string, Last Name: string, Company: string, City: string, Country: string, Phone 1: string, Email: string, Website: string]"
            ]
          },
          "metadata": {},
          "execution_count": 35
        }
      ]
    },
    {
      "cell_type": "markdown",
      "source": [
        "## Renaming Columns"
      ],
      "metadata": {
        "id": "xPjaLWNlwS4O"
      }
    },
    {
      "cell_type": "code",
      "source": [
        "df_pyspark.withColumnRenamed('City', 'Home Town').show(2)"
      ],
      "metadata": {
        "colab": {
          "base_uri": "https://localhost:8080/"
        },
        "id": "Ejooz_eZwVI3",
        "outputId": "bc2c7fcc-1b67-418c-ecd5-920dffc05ecc"
      },
      "execution_count": 36,
      "outputs": [
        {
          "output_type": "stream",
          "name": "stdout",
          "text": [
            "+-----+---------------+----------+---------+---------------+-----------------+--------+------------+--------------------+-----------------+--------------------+\n",
            "|Index|    Customer Id|First Name|Last Name|        Company|        Home Town| Country|     Phone 1|               Email|Subscription Date|             Website|\n",
            "+-----+---------------+----------+---------+---------------+-----------------+--------+------------+--------------------+-----------------+--------------------+\n",
            "|    1|DD37Cf93aecA6Dc|    Sheryl|   Baxter|Rasmussen Group|     East Leonard|   Chile|229.077.5154|zunigavanessa@smi...|       2020-08-24|http://www.stephe...|\n",
            "|    2|1Ef7b82A4CAAD10|   Preston|   Lozano|    Vega-Gentry|East Jimmychester|Djibouti|  5153435776|     vmata@colon.com|       2021-04-23|http://www.hobbs....|\n",
            "+-----+---------------+----------+---------+---------------+-----------------+--------+------------+--------------------+-----------------+--------------------+\n",
            "only showing top 2 rows\n",
            "\n"
          ]
        }
      ]
    }
  ]
}