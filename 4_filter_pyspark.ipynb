{
  "nbformat": 4,
  "nbformat_minor": 0,
  "metadata": {
    "colab": {
      "provenance": []
    },
    "kernelspec": {
      "name": "python3",
      "display_name": "Python 3"
    },
    "language_info": {
      "name": "python"
    }
  },
  "cells": [
    {
      "cell_type": "code",
      "execution_count": 1,
      "metadata": {
        "colab": {
          "base_uri": "https://localhost:8080/"
        },
        "id": "lHRgUkSs3_ZI",
        "outputId": "df2a1a88-4262-4286-cb4f-d5b05923edf7"
      },
      "outputs": [
        {
          "output_type": "stream",
          "name": "stdout",
          "text": [
            "Collecting pyspark\n",
            "  Downloading pyspark-3.5.1.tar.gz (317.0 MB)\n",
            "\u001b[2K     \u001b[90m━━━━━━━━━━━━━━━━━━━━━━━━━━━━━━━━━━━━━━━━\u001b[0m \u001b[32m317.0/317.0 MB\u001b[0m \u001b[31m3.8 MB/s\u001b[0m eta \u001b[36m0:00:00\u001b[0m\n",
            "\u001b[?25h  Preparing metadata (setup.py) ... \u001b[?25l\u001b[?25hdone\n",
            "Requirement already satisfied: py4j==0.10.9.7 in /usr/local/lib/python3.10/dist-packages (from pyspark) (0.10.9.7)\n",
            "Building wheels for collected packages: pyspark\n",
            "  Building wheel for pyspark (setup.py) ... \u001b[?25l\u001b[?25hdone\n",
            "  Created wheel for pyspark: filename=pyspark-3.5.1-py2.py3-none-any.whl size=317488491 sha256=b567b687cd6a06c3aca6ba0a1b65b02fecff18261280758fcfb9c8b39a3c0f5b\n",
            "  Stored in directory: /root/.cache/pip/wheels/80/1d/60/2c256ed38dddce2fdd93be545214a63e02fbd8d74fb0b7f3a6\n",
            "Successfully built pyspark\n",
            "Installing collected packages: pyspark\n",
            "Successfully installed pyspark-3.5.1\n"
          ]
        }
      ],
      "source": [
        "!pip install pyspark"
      ]
    },
    {
      "cell_type": "code",
      "source": [
        "import requests"
      ],
      "metadata": {
        "id": "8PJMHHIr4I2k"
      },
      "execution_count": 2,
      "outputs": []
    },
    {
      "cell_type": "code",
      "source": [
        "#Dowload CSV File\n",
        "\n",
        "def download_file(url, filename):\n",
        "\n",
        "    try:\n",
        "        response = requests.get(url)\n",
        "        response.raise_for_status()\n",
        "        with open(filename, 'wb') as f:\n",
        "            f.write(response.content)\n",
        "        print(f\"File downloaded successfully and saved as {filename}\")\n",
        "    except requests.exceptions.HTTPError as errh:\n",
        "        print(f\"HTTP Error: {errh}\")\n",
        "    except requests.exceptions.ConnectionError as errc:\n",
        "        print(f\"Error Connecting: {errc}\")\n",
        "    except requests.exceptions.Timeout as errt:\n",
        "        print(f\"Timeout Error: {errt}\")\n",
        "    except requests.exceptions.RequestException as err:\n",
        "        print(f\"OOps: Something Else: {err}\")"
      ],
      "metadata": {
        "id": "jSlI7UJX4Kjn"
      },
      "execution_count": 3,
      "outputs": []
    },
    {
      "cell_type": "code",
      "source": [
        "url = 'https://raw.githubusercontent.com/MainakRepositor/Datasets/master/F1/drivers.csv'\n",
        "filename = 'data.csv'\n",
        "\n",
        "download_file(url, filename)"
      ],
      "metadata": {
        "colab": {
          "base_uri": "https://localhost:8080/"
        },
        "id": "LPBLzTcu4L7n",
        "outputId": "d2613877-c827-4b24-8e14-7e9722ac4375"
      },
      "execution_count": 4,
      "outputs": [
        {
          "output_type": "stream",
          "name": "stdout",
          "text": [
            "File downloaded successfully and saved as data.csv\n"
          ]
        }
      ]
    },
    {
      "cell_type": "code",
      "source": [
        "from pyspark.sql import SparkSession"
      ],
      "metadata": {
        "id": "z_XFoq8v48Tm"
      },
      "execution_count": 5,
      "outputs": []
    },
    {
      "cell_type": "code",
      "source": [
        "spark = SparkSession.builder.appName('DataFrame').getOrCreate()\n",
        "spark"
      ],
      "metadata": {
        "colab": {
          "base_uri": "https://localhost:8080/",
          "height": 219
        },
        "id": "VPj_Ianf494g",
        "outputId": "260b8f11-7186-425f-c1c9-c22972efa434"
      },
      "execution_count": 6,
      "outputs": [
        {
          "output_type": "execute_result",
          "data": {
            "text/plain": [
              "<pyspark.sql.session.SparkSession at 0x78cf7a00a9e0>"
            ],
            "text/html": [
              "\n",
              "            <div>\n",
              "                <p><b>SparkSession - in-memory</b></p>\n",
              "                \n",
              "        <div>\n",
              "            <p><b>SparkContext</b></p>\n",
              "\n",
              "            <p><a href=\"http://a70226e55623:4040\">Spark UI</a></p>\n",
              "\n",
              "            <dl>\n",
              "              <dt>Version</dt>\n",
              "                <dd><code>v3.5.1</code></dd>\n",
              "              <dt>Master</dt>\n",
              "                <dd><code>local[*]</code></dd>\n",
              "              <dt>AppName</dt>\n",
              "                <dd><code>DataFrame</code></dd>\n",
              "            </dl>\n",
              "        </div>\n",
              "        \n",
              "            </div>\n",
              "        "
            ]
          },
          "metadata": {},
          "execution_count": 6
        }
      ]
    },
    {
      "cell_type": "code",
      "source": [
        "# consider first row as header\n",
        "df_pyspark = spark.read.csv('data.csv', header=True, inferSchema=True)\n",
        "df_pyspark.show(5)"
      ],
      "metadata": {
        "colab": {
          "base_uri": "https://localhost:8080/"
        },
        "id": "7tgDHqpk4-JG",
        "outputId": "34d0cb40-9887-4db7-f5a8-e507f7f39d65"
      },
      "execution_count": 7,
      "outputs": [
        {
          "output_type": "stream",
          "name": "stdout",
          "text": [
            "+--------+----------+------+----+--------+----------+----------+-----------+--------------------+\n",
            "|driverId| driverRef|number|code|forename|   surname|       dob|nationality|                 url|\n",
            "+--------+----------+------+----+--------+----------+----------+-----------+--------------------+\n",
            "|       1|  hamilton|    44| HAM|   Lewis|  Hamilton|07/01/1985|    British|http://en.wikiped...|\n",
            "|       2|  heidfeld|  NULL| HEI|    Nick|  Heidfeld|10/05/1977|     German|http://en.wikiped...|\n",
            "|       3|   rosberg|     6| ROS|    Nico|   Rosberg|27/06/1985|     German|http://en.wikiped...|\n",
            "|       4|    alonso|    14| ALO|Fernando|    Alonso|29/07/1981|    Spanish|http://en.wikiped...|\n",
            "|       5|kovalainen|  NULL| KOV|  Heikki|Kovalainen|19/10/1981|    Finnish|http://en.wikiped...|\n",
            "+--------+----------+------+----+--------+----------+----------+-----------+--------------------+\n",
            "only showing top 5 rows\n",
            "\n"
          ]
        }
      ]
    },
    {
      "cell_type": "markdown",
      "source": [
        "## Filter Operations"
      ],
      "metadata": {
        "id": "VpluMD9i5Pt7"
      }
    },
    {
      "cell_type": "code",
      "source": [
        "# Drivers with number <= 10\n",
        "\n",
        "df_pyspark.filter(\"number<=10\").show()"
      ],
      "metadata": {
        "colab": {
          "base_uri": "https://localhost:8080/"
        },
        "id": "DXrweTrw5RcQ",
        "outputId": "c457560d-151e-46a3-c365-bf8a60dbffb1"
      },
      "execution_count": 9,
      "outputs": [
        {
          "output_type": "stream",
          "name": "stdout",
          "text": [
            "+--------+---------+------+----+---------+----------+----------+-----------+--------------------+\n",
            "|driverId|driverRef|number|code| forename|   surname|       dob|nationality|                 url|\n",
            "+--------+---------+------+----+---------+----------+----------+-----------+--------------------+\n",
            "|       3|  rosberg|     6| ROS|     Nico|   Rosberg|27/06/1985|     German|http://en.wikiped...|\n",
            "|       8|raikkonen|     7| RAI|     Kimi|R�_ikk̦nen|17/10/1979|    Finnish|http://en.wikiped...|\n",
            "|      20|   vettel|     5| VET|Sebastian|    Vettel|03/07/1987|     German|http://en.wikiped...|\n",
            "|     154| grosjean|     8| GRO|   Romain|  Grosjean|17/04/1986|     French|http://en.wikiped...|\n",
            "|     155|kobayashi|    10| KOB|    Kamui| Kobayashi|13/09/1986|   Japanese|http://en.wikiped...|\n",
            "|     842|    gasly|    10| GAS|   Pierre|     Gasly|07/02/1996|     French|http://en.wikiped...|\n",
            "|     817|ricciardo|     3| RIC|   Daniel| Ricciardo|01/07/1989| Australian|http://en.wikiped...|\n",
            "|     820|  chilton|     4| CHI|      Max|   Chilton|21/04/1991|    British|http://en.wikiped...|\n",
            "|     828| ericsson|     9| ERI|   Marcus|  Ericsson|02/09/1990|    Swedish|http://en.wikiped...|\n",
            "|     838|vandoorne|     2| VAN|  Stoffel| Vandoorne|26/03/1992|    Belgian|http://en.wikiped...|\n",
            "+--------+---------+------+----+---------+----------+----------+-----------+--------------------+\n",
            "\n"
          ]
        }
      ]
    },
    {
      "cell_type": "markdown",
      "source": [
        "Display only particular columns (Like SELECT from SQL)"
      ],
      "metadata": {
        "id": "TnbQztyo5zsF"
      }
    },
    {
      "cell_type": "code",
      "source": [
        "df_pyspark.filter(\"number<=10\").select([\"forename\",\"driverRef\"]).show()"
      ],
      "metadata": {
        "colab": {
          "base_uri": "https://localhost:8080/"
        },
        "id": "6S0qwg8p5iJ2",
        "outputId": "b6f31a1c-9dad-48e2-e763-51e2687976f9"
      },
      "execution_count": 12,
      "outputs": [
        {
          "output_type": "stream",
          "name": "stdout",
          "text": [
            "+---------+---------+\n",
            "| forename|driverRef|\n",
            "+---------+---------+\n",
            "|     Nico|  rosberg|\n",
            "|     Kimi|raikkonen|\n",
            "|Sebastian|   vettel|\n",
            "|   Romain| grosjean|\n",
            "|    Kamui|kobayashi|\n",
            "|   Pierre|    gasly|\n",
            "|   Daniel|ricciardo|\n",
            "|      Max|  chilton|\n",
            "|   Marcus| ericsson|\n",
            "|  Stoffel|vandoorne|\n",
            "+---------+---------+\n",
            "\n"
          ]
        }
      ]
    },
    {
      "cell_type": "markdown",
      "source": [
        "Multiple conditions for filtering"
      ],
      "metadata": {
        "id": "JWtwzSqu55qh"
      }
    },
    {
      "cell_type": "code",
      "source": [
        "# &\n",
        "\n",
        "df_pyspark.filter(\n",
        "    (df_pyspark[\"number\"] <= 10) & ( df_pyspark[\"nationality\"] == \"German\" ) ).select([\"driverRef\", \"nationality\"]).show()"
      ],
      "metadata": {
        "colab": {
          "base_uri": "https://localhost:8080/"
        },
        "id": "kTvPLzwx5xKX",
        "outputId": "52866b19-f3e9-442f-bbd1-bb0d1fd8a8d1"
      },
      "execution_count": 19,
      "outputs": [
        {
          "output_type": "stream",
          "name": "stdout",
          "text": [
            "+---------+-----------+\n",
            "|driverRef|nationality|\n",
            "+---------+-----------+\n",
            "|  rosberg|     German|\n",
            "|   vettel|     German|\n",
            "+---------+-----------+\n",
            "\n"
          ]
        }
      ]
    },
    {
      "cell_type": "code",
      "source": [
        "# |\n",
        "\n",
        "df_pyspark.filter(\n",
        "    (df_pyspark[\"number\"] <= 10) | ( df_pyspark[\"nationality\"] == \"German\" ) ).select([\"driverRef\", \"nationality\"]).show()"
      ],
      "metadata": {
        "colab": {
          "base_uri": "https://localhost:8080/"
        },
        "id": "7v7TaZhA5xIC",
        "outputId": "4ecb0afa-598d-4e35-be54-c864922dd49a"
      },
      "execution_count": 20,
      "outputs": [
        {
          "output_type": "stream",
          "name": "stdout",
          "text": [
            "+------------------+-----------+\n",
            "|         driverRef|nationality|\n",
            "+------------------+-----------+\n",
            "|          heidfeld|     German|\n",
            "|           rosberg|     German|\n",
            "|         raikkonen|    Finnish|\n",
            "|             glock|     German|\n",
            "|             sutil|     German|\n",
            "|            vettel|     German|\n",
            "|   ralf_schumacher|     German|\n",
            "| markus_winkelhock|     German|\n",
            "|michael_schumacher|     German|\n",
            "|          frentzen|     German|\n",
            "|           bartels|     German|\n",
            "|         schneider|     German|\n",
            "|          grosjean|     French|\n",
            "|         kobayashi|   Japanese|\n",
            "|            danner|     German|\n",
            "|           weidler|     German|\n",
            "|joachim_winkelhock|     German|\n",
            "|manfred_winkelhock|     German|\n",
            "|            bellof|     German|\n",
            "|              mass|     German|\n",
            "+------------------+-----------+\n",
            "only showing top 20 rows\n",
            "\n"
          ]
        }
      ]
    },
    {
      "cell_type": "code",
      "source": [
        "# NOT opeartion ~\n",
        "\n",
        "df_pyspark.filter(~(df_pyspark['number'] >=5)).show()"
      ],
      "metadata": {
        "colab": {
          "base_uri": "https://localhost:8080/"
        },
        "id": "JKiwDoOH5xDE",
        "outputId": "d425fc17-fb06-4be7-84f3-cc8ac6394efc"
      },
      "execution_count": 21,
      "outputs": [
        {
          "output_type": "stream",
          "name": "stdout",
          "text": [
            "+--------+---------+------+----+--------+---------+----------+-----------+--------------------+\n",
            "|driverId|driverRef|number|code|forename|  surname|       dob|nationality|                 url|\n",
            "+--------+---------+------+----+--------+---------+----------+-----------+--------------------+\n",
            "|     817|ricciardo|     3| RIC|  Daniel|Ricciardo|01/07/1989| Australian|http://en.wikiped...|\n",
            "|     820|  chilton|     4| CHI|     Max|  Chilton|21/04/1991|    British|http://en.wikiped...|\n",
            "|     838|vandoorne|     2| VAN| Stoffel|Vandoorne|26/03/1992|    Belgian|http://en.wikiped...|\n",
            "+--------+---------+------+----+--------+---------+----------+-----------+--------------------+\n",
            "\n"
          ]
        }
      ]
    }
  ]
}